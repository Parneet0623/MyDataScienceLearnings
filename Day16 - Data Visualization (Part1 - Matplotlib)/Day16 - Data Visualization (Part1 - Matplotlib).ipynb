{
 "cells": [
  {
   "cell_type": "markdown",
   "metadata": {
    "colab_type": "text",
    "id": "eaNq4Gmi9Qic"
   },
   "source": [
    "## Day16 - Data Visualization using Matplotlib (Part1)\n",
    "\n",
    "### Data Visualization\n",
    "1. Graphical representation of information and data\n",
    "2. Graph, Chart, and Map make it easier to understand the patterns in data\n",
    "3. Matplotlib is a comprehensive library for creating static, animated, and interactive visualizations in Python.\n",
    "4. Seaborn is a Python data visualization library based on matplotlib. It provides a high-level interface for drawing attractive and informative statistical graphics.\n",
    "\n",
    "##### Self Learning Resource\n",
    "1. Matplotlib: <a href=\"https://matplotlib.org/3.3.1/gallery/index.html\"> Examples</a> | <a href=\"https://matplotlib.org/3.3.1/gallery/index.html\"> Tutorials</a>\n",
    "2. Seaborn: <a href=\"https://seaborn.pydata.org/examples/index.html\"> Examples</a> | <a href=\"https://seaborn.pydata.org/tutorial.html\"> Tutorials</a>\n",
    "3. Data visualization using matplotlib, seaborn, plotly - <a href=\"https://www.kaggle.com/abhishekvaid19968/data-visualization-using-matplotlib-seaborn-plotly\"> Click Here </a>\n",
    " \n",
    " "
   ]
  },
  {
   "cell_type": "markdown",
   "metadata": {
    "colab_type": "text",
    "id": "2370SaUuD5C0"
   },
   "source": [
    "##  <span style='color:Red'>Import matplotlib</span>"
   ]
  },
  {
   "cell_type": "code",
   "execution_count": null,
   "metadata": {
    "colab": {},
    "colab_type": "code",
    "id": "1k2hdQcWkX33"
   },
   "outputs": [],
   "source": [
    "import matplotlib.pyplot as plt"
   ]
  },
  {
   "cell_type": "markdown",
   "metadata": {
    "colab_type": "text",
    "id": "B8XqA9w8vDIK"
   },
   "source": [
    "## <span style='color:Blue'>1. Line plot</span>"
   ]
  },
  {
   "cell_type": "markdown",
   "metadata": {
    "colab_type": "text",
    "id": "AzvN5WvykX4H"
   },
   "source": [
    "### 1.1 Plot a line"
   ]
  },
  {
   "cell_type": "code",
   "execution_count": null,
   "metadata": {
    "colab": {
     "base_uri": "https://localhost:8080/",
     "height": 265
    },
    "colab_type": "code",
    "id": "-49vbKxckX4K",
    "outputId": "b15a8bb8-afbc-4f69-a4b5-9041459afbf7"
   },
   "outputs": [],
   "source": [
    "x = [0, 1, 2, 3, 4, 5, 6]\n",
    "y = [i **2 for i in x ]\n",
    "\n",
    "plt.plot(x, y)\n",
    "\n",
    "plt.show()"
   ]
  },
  {
   "cell_type": "markdown",
   "metadata": {
    "colab_type": "text",
    "id": "AzvN5WvykX4H"
   },
   "source": [
    "##### To save plot in a file"
   ]
  },
  {
   "cell_type": "code",
   "execution_count": null,
   "metadata": {
    "colab": {
     "base_uri": "https://localhost:8080/",
     "height": 265
    },
    "colab_type": "code",
    "id": "-49vbKxckX4K",
    "outputId": "b15a8bb8-afbc-4f69-a4b5-9041459afbf7"
   },
   "outputs": [],
   "source": [
    "plt.savefig(\"testImage.jpg\", dpi=300)\n",
    "#plt.savefig(\"testImage.png\", dpi=300)"
   ]
  },
  {
   "cell_type": "markdown",
   "metadata": {
    "colab_type": "text",
    "id": "Is2zf9hDkX4Y"
   },
   "source": [
    "### 1.2 Plot a line with details"
   ]
  },
  {
   "cell_type": "code",
   "execution_count": null,
   "metadata": {
    "colab": {
     "base_uri": "https://localhost:8080/",
     "height": 295
    },
    "colab_type": "code",
    "id": "UXwqBjIGkX4a",
    "outputId": "2aca18fb-5257-416b-d4e2-af5f47391563"
   },
   "outputs": [],
   "source": [
    "x = [5, 2, 7]\n",
    "y = [2, 16, 4]\n",
    "\n",
    "plt.plot(x, y)\n",
    "#plt.plot(y,x)\n",
    "\n",
    "plt.title('This is Title')\n",
    "plt.ylabel('Y axis')\n",
    "plt.xlabel('X axis')\n",
    "\n",
    "plt.show()"
   ]
  },
  {
   "cell_type": "markdown",
   "metadata": {
    "colab_type": "text",
    "id": "FBo2zGlEkX4m"
   },
   "source": [
    "### 1.3 Plot multiple lines"
   ]
  },
  {
   "cell_type": "code",
   "execution_count": null,
   "metadata": {
    "colab": {
     "base_uri": "https://localhost:8080/",
     "height": 312
    },
    "colab_type": "code",
    "id": "iX0TA0LrkX4n",
    "outputId": "1bfae39b-63e1-4ce6-efa5-a01521df817f"
   },
   "outputs": [],
   "source": [
    "x  = [1, 2, 3, 4, 5]\n",
    "y1 = [50, 40, 70, 80, 20]\n",
    "y2 = [80, 20, 20, 50, 60]\n",
    "y3 = [70, 20, 60, 40, 60]\n",
    "y4 = [80, 20, 20, 50, 60]\n",
    "\n",
    "plt.plot(x, y1, 'g', label='Enfield', linewidth=2)\n",
    "plt.plot(x, y2, 'c', label='Honda', linewidth=1)\n",
    "plt.plot(x, y3, 'k', label='Yahama', linewidth=3)\n",
    "plt.plot(x, y4, 'y', label='KTM', linewidth=2)\n",
    "\n",
    "plt.title('Bike details in line plot')\n",
    "plt.ylabel('Distance in kms')\n",
    "plt.xlabel('Days')\n",
    "\n",
    "plt.legend()           #Adding Legends\n",
    "\n",
    "plt.show()"
   ]
  },
  {
   "cell_type": "markdown",
   "metadata": {
    "colab_type": "text",
    "id": "mBFKzxKxkX5A"
   },
   "source": [
    "## <span style='color:Blue'>2. Bar plot</span>"
   ]
  },
  {
   "cell_type": "markdown",
   "metadata": {
    "colab_type": "text",
    "id": "0i6yTlGzviaG"
   },
   "source": [
    "### 2.1 Plot a bar chart"
   ]
  },
  {
   "cell_type": "code",
   "execution_count": null,
   "metadata": {
    "colab": {
     "base_uri": "https://localhost:8080/",
     "height": 265
    },
    "colab_type": "code",
    "id": "16B3A3q3kX5D",
    "outputId": "8b9a6772-be4d-4480-858d-3cf9ffd47242"
   },
   "outputs": [],
   "source": [
    "x = [50, 60, 30, 70, 20]\n",
    "y = [\"A\", \"B\", \"C\", \"D\", \"E\"]\n",
    "\n",
    "plt.bar(y, x, color = \"green\")\n",
    "\n",
    "plt.show()"
   ]
  },
  {
   "cell_type": "markdown",
   "metadata": {
    "colab_type": "text",
    "id": "jh0yy2thkX5X"
   },
   "source": [
    "### 2.2 Multiple bar plot"
   ]
  },
  {
   "cell_type": "markdown",
   "metadata": {
    "colab_type": "text",
    "id": "jh0yy2thkX5X"
   },
   "source": [
    "#### Example 1"
   ]
  },
  {
   "cell_type": "code",
   "execution_count": null,
   "metadata": {
    "colab": {
     "base_uri": "https://localhost:8080/",
     "height": 312
    },
    "colab_type": "code",
    "id": "hsuRy3kBkX5Z",
    "outputId": "f7213820-4cd5-4aa5-a12a-54541c57c5b9"
   },
   "outputs": [],
   "source": [
    "x1 = [0.25, 1.25, 2.25, 3.25, 4.25]\n",
    "y1 = [50, 40, 70, 80, 20]\n",
    "\n",
    "plt.bar(x1, y1, label=\"BMW\", color='r')\n",
    "\n",
    "x2 = [.75, 1.75, 2.75, 3.75, 4.75]\n",
    "y2 = [80, 20, 20, 50, 60]\n",
    "plt.bar(x2, y2, label=\"Audi\", color='y')\n",
    "\n",
    "plt.xlabel('Days')\n",
    "plt.ylabel('Distance (kms)')\n",
    "plt.title('Information')\n",
    "\n",
    "plt.legend()\n",
    "plt.show()\n"
   ]
  },
  {
   "cell_type": "markdown",
   "metadata": {
    "colab_type": "text",
    "id": "jh0yy2thkX5X"
   },
   "source": [
    "#### Example 2"
   ]
  },
  {
   "cell_type": "code",
   "execution_count": null,
   "metadata": {
    "colab": {
     "base_uri": "https://localhost:8080/",
     "height": 295
    },
    "colab_type": "code",
    "id": "2SVeUtF4xa85",
    "outputId": "06f2164f-df8f-49ae-9b99-c031d0e12bea"
   },
   "outputs": [],
   "source": [
    "x1 = [0.25, 1.25, 2.25, 3.25, 4.25]\n",
    "y1 = [50, 40, 70, 80, 20]\n",
    "plt.bar(x1, y1, label=\"Enfield\", width=0.5)\n",
    "\n",
    "x2 = [0.26, 1.25, 2.25, 3.25, 4.25]\n",
    "y2 = [80, 20, 20, 50, 60]\n",
    "plt.bar(x2, y2, label=\"Honda\", color='r', width=.5)\n",
    "\n",
    "x3 = [0.31, 1.5, 2.5, 3.5, 4.5]\n",
    "y3 = [70, 20, 60, 40, 60]\n",
    "plt.bar(x3, y3, label=\"Yamaha\", color='y', width=.5)\n",
    "\n",
    "x4 = [.75, 1.75, 2.75, 3.75, 4.75]\n",
    "y4 = [80, 20, 20, 50, 60]\n",
    "plt.bar(x4, y4, label=\"KTM\", color='g', width=.5)\n",
    "\n",
    "plt.legend()\n",
    "plt.xlabel('Days')\n",
    "plt.ylabel('Distance (kms)')\n",
    "\n",
    "plt.title('Bikes details in BAR PLOTTING')\n",
    "\n",
    "plt.show()\n"
   ]
  },
  {
   "cell_type": "markdown",
   "metadata": {
    "colab_type": "text",
    "id": "R1JOqklzkX5v"
   },
   "source": [
    "### 2.3 Horizontal Bar Plot (barh)"
   ]
  },
  {
   "cell_type": "code",
   "execution_count": null,
   "metadata": {
    "colab": {
     "base_uri": "https://localhost:8080/",
     "height": 265
    },
    "colab_type": "code",
    "id": "42KCT1gykX5x",
    "outputId": "9222d898-fa51-428c-ca5f-cc54ec59a5a1"
   },
   "outputs": [],
   "source": [
    "x = [5, 6, 3, 7, 2]\n",
    "y = [\"A\", \"B\", \"C\", \"D\", \"E\"]\n",
    "\n",
    "plt.barh(y, x, color =\"orange\")\n",
    "\n",
    "plt.show()"
   ]
  },
  {
   "cell_type": "markdown",
   "metadata": {
    "colab_type": "text",
    "id": "rJSIInS2kX7G"
   },
   "source": [
    "## <span style='color:Blue'>3. Scatter plot</span>"
   ]
  },
  {
   "cell_type": "markdown",
   "metadata": {
    "colab_type": "text",
    "id": "WAqfIotikX7I"
   },
   "source": [
    "### 3.1 Scatter plot"
   ]
  },
  {
   "cell_type": "code",
   "execution_count": null,
   "metadata": {
    "colab": {
     "base_uri": "https://localhost:8080/",
     "height": 265
    },
    "colab_type": "code",
    "id": "dFEbxcZukX7N",
    "outputId": "d3361bc5-9e84-4cbe-e5db-39d7f9d132a6"
   },
   "outputs": [],
   "source": [
    "x = [5, 2, 9, 4, 7]     # x-axis values \n",
    "y = [10, 5, 8, 4, 2]         # Y-axis values \n",
    "\n",
    "plt.scatter(x, y)         # Function to plot scatter \n",
    "\n",
    "plt.show()               # function to show the plot "
   ]
  },
  {
   "cell_type": "markdown",
   "metadata": {
    "colab_type": "text",
    "id": "WAqfIotikX7I"
   },
   "source": [
    "### 3.2 Scatter plot with title, x-axis and y-axis"
   ]
  },
  {
   "cell_type": "code",
   "execution_count": null,
   "metadata": {
    "colab": {
     "base_uri": "https://localhost:8080/",
     "height": 265
    },
    "colab_type": "code",
    "id": "dFEbxcZukX7N",
    "outputId": "d3361bc5-9e84-4cbe-e5db-39d7f9d132a6",
    "scrolled": true
   },
   "outputs": [],
   "source": [
    "x = [35, 20, 29, 40, 57]     # x-axis values \n",
    "y = [100, 50, 80, 40, 200]         # Y-axis values \n",
    "\n",
    "plt.scatter(x, y)         # Function to plot scatter \n",
    "\n",
    "plt.xlabel('Salary * 1000')\n",
    "plt.ylabel('Age)')\n",
    "plt.title('Age Vs Salary')\n",
    "\n",
    "plt.show()               # function to show the plot "
   ]
  },
  {
   "cell_type": "markdown",
   "metadata": {
    "colab_type": "text",
    "id": "Hk172fMYkX7Z"
   },
   "source": [
    "### 3.3 Multiple scatter plot"
   ]
  },
  {
   "cell_type": "code",
   "execution_count": null,
   "metadata": {
    "colab": {
     "base_uri": "https://localhost:8080/",
     "height": 295
    },
    "colab_type": "code",
    "id": "L8Eto9-FkX7a",
    "outputId": "d0bdc4f9-88f9-4087-e19c-28fd1892673c"
   },
   "outputs": [],
   "source": [
    "x1 = [1, 1.5, 2, 2.5, 3, 3.5, 3.6]\n",
    "y1 = [7.5, 8, 8.5, 9, 9.5, 10, 10.5]\n",
    "\n",
    "x2 = [8, 8.5, 9, 9.5, 10, 10.5, 11]\n",
    "y2 = [3, 3.5, 3.7, 4, 4.5, 5, 5.2]\n",
    "\n",
    "plt.scatter(x1, y1, label='High income low saving',  color='r')\n",
    "plt.scatter(x2, y2, label='Low income high savings', color='b')\n",
    "\n",
    "plt.xlabel('Saving*100')\n",
    "plt.ylabel('Income*1000')\n",
    "plt.title('Scatter Plot')\n",
    "\n",
    "plt.legend()\n",
    "\n",
    "plt.grid()\n",
    "plt.show()       "
   ]
  },
  {
   "cell_type": "markdown",
   "metadata": {
    "colab_type": "text",
    "id": "RBTfaCKOkX7t"
   },
   "source": [
    "## <span style='color:Blue'>4. Pie plot</span>"
   ]
  },
  {
   "cell_type": "markdown",
   "metadata": {},
   "source": [
    "#### Example 1"
   ]
  },
  {
   "cell_type": "code",
   "execution_count": null,
   "metadata": {},
   "outputs": [],
   "source": [
    "grades = 'A', 'A-', 'B', 'B-', 'C', 'E'\n",
    "gradeCount = [50, 60, 140, 160, 30, 20]\n",
    "\n",
    "plt.pie(gradeCount, labels=grades, autopct='%1.1f%%')\n",
    "\n",
    "plt.show()\n",
    "\n",
    "# Question: What is the output\n",
    "#print(type(grades))"
   ]
  },
  {
   "cell_type": "markdown",
   "metadata": {},
   "source": [
    "#### Example 2"
   ]
  },
  {
   "cell_type": "code",
   "execution_count": null,
   "metadata": {},
   "outputs": [],
   "source": [
    "labels = 'Python', 'C++', 'Ruby', 'Java'\n",
    "sizes = [215, 130, 245, 210]\n",
    "\n",
    "colors = ['gold', 'yellowgreen', 'lightcoral', 'lightskyblue']\n",
    "explode = (0.2, 0, 0, 0)  # explode 1st slice\n",
    "\n",
    "# Plot\n",
    "plt.pie(sizes, explode=explode, labels=labels, colors=colors,\n",
    "        autopct='%1.1f%%', shadow=True)\n",
    "\n",
    "plt.axis('equal')\n",
    "plt.show()"
   ]
  },
  {
   "cell_type": "markdown",
   "metadata": {
    "colab_type": "text",
    "id": "RBTfaCKOkX7t"
   },
   "source": [
    "#### Example 3"
   ]
  },
  {
   "cell_type": "code",
   "execution_count": null,
   "metadata": {
    "colab": {
     "base_uri": "https://localhost:8080/",
     "height": 281
    },
    "colab_type": "code",
    "id": "DN0dVV4okX7w",
    "outputId": "728b4e34-2260-44f3-af4c-f27dc55f4113"
   },
   "outputs": [],
   "source": [
    "share = [3,4,2,1]\n",
    "bikes = ['Enfield','Honda','Yahama','KTM']\n",
    "\n",
    "plt.pie(share, labels=bikes, shadow= True, explode=(0,0.1,0,0), \n",
    "        autopct='%1.1f%%')\n",
    "\n",
    "plt.title('Bike Shares')\n",
    "\n",
    "plt.show()"
   ]
  },
  {
   "cell_type": "markdown",
   "metadata": {
    "colab_type": "text",
    "id": "FTvLvMXSkX78"
   },
   "source": [
    "## <span style='color:Blue'>5. Matplotlib plots on NBA dataset</span>"
   ]
  },
  {
   "cell_type": "code",
   "execution_count": null,
   "metadata": {
    "colab": {},
    "colab_type": "code",
    "id": "nBcPp1czkX7_"
   },
   "outputs": [],
   "source": [
    "import pandas as pd\n",
    "import matplotlib.pyplot as plt\n",
    "\n",
    "df = pd.read_csv('nba16.csv')\n",
    "df.head()"
   ]
  },
  {
   "cell_type": "markdown",
   "metadata": {
    "colab_type": "text",
    "id": "ubrr8YMgkX8R"
   },
   "source": [
    "### 5.1 Bar graph"
   ]
  },
  {
   "cell_type": "code",
   "execution_count": null,
   "metadata": {
    "colab": {},
    "colab_type": "code",
    "id": "kAoRNO2ckX8T",
    "scrolled": true
   },
   "outputs": [],
   "source": [
    "x = df['Age']\n",
    "y = df['Salary']\n",
    "\n",
    "plt.xlabel('Age')                                   \n",
    "plt.ylabel('Salary (in millions)')\n",
    "plt.title('Salary Vs Age')\n",
    "\n",
    "plt.bar(x, y, color = \"purple\")\n",
    "\n",
    "plt.show()"
   ]
  },
  {
   "cell_type": "markdown",
   "metadata": {
    "colab_type": "text",
    "id": "EpP4lLQUkX8f"
   },
   "source": [
    "### 5.2 Horizontal bar graph"
   ]
  },
  {
   "cell_type": "code",
   "execution_count": null,
   "metadata": {
    "colab": {},
    "colab_type": "code",
    "id": "2z16yx1tkX8i"
   },
   "outputs": [],
   "source": [
    "x = df['Age']\n",
    "y = df['Salary']\n",
    "\n",
    "plt.xlabel('Age')                                   \n",
    "plt.ylabel('Salary (in millions)')\n",
    "plt.title('Salary Vs Age')\n",
    "\n",
    "plt.barh(x, y, color = \"green\")\n",
    "\n",
    "plt.show()"
   ]
  },
  {
   "cell_type": "markdown",
   "metadata": {
    "colab_type": "text",
    "id": "rIdUojORkX8x"
   },
   "source": [
    "### 5.3 Scatter plot"
   ]
  },
  {
   "cell_type": "code",
   "execution_count": null,
   "metadata": {
    "colab": {},
    "colab_type": "code",
    "id": "C02yljLpkX8z"
   },
   "outputs": [],
   "source": [
    "x = df['Age']\n",
    "y = df['Salary']\n",
    "\n",
    "plt.xlabel('Age')                                   \n",
    "plt.ylabel('Salary (in millions)')\n",
    "plt.title('Salary Vs Age')\n",
    "\n",
    "plt.scatter(x, y, marker = \"*\")\n",
    "\n",
    "# marker {'o','+','x','^','*','_'}\n",
    "\n",
    "plt.show()"
   ]
  },
  {
   "cell_type": "markdown",
   "metadata": {
    "colab_type": "text",
    "id": "rIdUojORkX8x"
   },
   "source": [
    "## <span style='color:Blue'>6. Plotting Mathematical Functions</span>\n",
    "### 6.1 Plot sine curve\n",
    "#### Example 1"
   ]
  },
  {
   "cell_type": "code",
   "execution_count": null,
   "metadata": {
    "colab": {},
    "colab_type": "code",
    "id": "C02yljLpkX8z"
   },
   "outputs": [],
   "source": [
    "# Compute the x and y coordinates for points on a sine curve \n",
    "import math as m\n",
    "import random as r\n",
    "\n",
    "x = [ m.pi * i  for i in range(0, 10)]\n",
    "y = [ m.sin(i) for i in x ]\n",
    "\n",
    "plt.plot(x, y)\n",
    "plt.title(\"sin(pi) wave form\")\n",
    "\n",
    "plt.show()"
   ]
  },
  {
   "cell_type": "markdown",
   "metadata": {},
   "source": [
    "#### Example 2: Sine wave"
   ]
  },
  {
   "cell_type": "code",
   "execution_count": null,
   "metadata": {
    "colab": {},
    "colab_type": "code",
    "id": "C02yljLpkX8z"
   },
   "outputs": [],
   "source": [
    "import numpy as np\n",
    "\n",
    "# Compute the x and y coordinates for points on a sine curve \n",
    "x = np.arange(0, 4 * np.pi, 0.1) \n",
    "y = np.sin(x) \n",
    "\n",
    "plt.plot(x, y) \n",
    "plt.title(\"Sine wave form\")\n",
    "\n",
    "plt.show()"
   ]
  },
  {
   "cell_type": "markdown",
   "metadata": {},
   "source": [
    "#### Example 3: Cos wave"
   ]
  },
  {
   "cell_type": "code",
   "execution_count": null,
   "metadata": {
    "colab": {},
    "colab_type": "code",
    "id": "C02yljLpkX8z"
   },
   "outputs": [],
   "source": [
    "import numpy as np\n",
    "\n",
    "# Compute the x and y coordinates for points on a sine curve \n",
    "x = np.arange(0, 4 * np.pi, 0.1) \n",
    "y = np.cos(x) \n",
    "\n",
    "plt.plot(x, y) \n",
    "plt.title(\"Cos wave form\")\n",
    "\n",
    "plt.show()"
   ]
  },
  {
   "cell_type": "markdown",
   "metadata": {},
   "source": [
    "### 6.2 Subplot\n",
    "#### Example 1"
   ]
  },
  {
   "cell_type": "code",
   "execution_count": null,
   "metadata": {
    "colab": {},
    "colab_type": "code",
    "id": "C02yljLpkX8z",
    "scrolled": true
   },
   "outputs": [],
   "source": [
    "import numpy as np\n",
    "\n",
    "# Compute the x and y coordinates for points on sine and cosine curves \n",
    "x = np.arange(0, 5 * np.pi, 0.1) \n",
    "\n",
    "y_sin = np.sin(x) \n",
    "y_cos = np.cos(x)  \n",
    "   \n",
    "plt.plot(x, y_cos,'g--') \n",
    "plt.plot(x, y_sin,'r--') \n",
    "plt.title('Sine and Cosine')  \n",
    "   \n",
    "plt.show()"
   ]
  },
  {
   "cell_type": "markdown",
   "metadata": {},
   "source": [
    "#### Example 2"
   ]
  },
  {
   "cell_type": "code",
   "execution_count": null,
   "metadata": {
    "colab": {},
    "colab_type": "code",
    "id": "C02yljLpkX8z"
   },
   "outputs": [],
   "source": [
    "import numpy as np\n",
    "\n",
    "x = np.arange(0, 5 * np.pi, 0.1) \n",
    "\n",
    "y_sin = np.sin(x) \n",
    "y_cos = np.cos(x)  \n",
    "   \n",
    "# Set up a subplot grid that has height 2 and width 1, and \n",
    "#     set the first such subplot as active. \n",
    "plt.subplot(2, 1, 1)\n",
    "   \n",
    "# Make the first plot \n",
    "plt.plot(x, y_sin,'r--') \n",
    "plt.title('Sine')  \n",
    "   \n",
    "# Set the second subplot as active, and make the second plot\n",
    "plt.subplot(2, 1, 2) \n",
    "plt.plot(x, y_cos,'g--') \n",
    "plt.title('Cosine')  \n",
    "   \n",
    "plt.show()"
   ]
  },
  {
   "cell_type": "markdown",
   "metadata": {},
   "source": [
    "## <span style='color:Blue'>7. Box Plot</span>"
   ]
  },
  {
   "cell_type": "code",
   "execution_count": null,
   "metadata": {
    "colab": {},
    "colab_type": "code",
    "id": "C02yljLpkX8z"
   },
   "outputs": [],
   "source": [
    "import numpy as np\n",
    "import matplotlib.pyplot as plt\n",
    "\n",
    "data = [np.random.normal(0, std, 100) for std in range(1, 4)]\n",
    "\n",
    "plt.boxplot(data) #,vert=False)\n",
    "plt.show()\n",
    "\n",
    "#data"
   ]
  },
  {
   "cell_type": "markdown",
   "metadata": {},
   "source": [
    "## <span style='color:Blue'>8. Plot Time Series</span>"
   ]
  },
  {
   "cell_type": "markdown",
   "metadata": {},
   "source": [
    "##### Import libraries"
   ]
  },
  {
   "cell_type": "code",
   "execution_count": null,
   "metadata": {
    "colab": {},
    "colab_type": "code",
    "id": "C02yljLpkX8z",
    "scrolled": true
   },
   "outputs": [],
   "source": [
    "from pandas import read_csv\n",
    "from matplotlib import pyplot"
   ]
  },
  {
   "cell_type": "markdown",
   "metadata": {},
   "source": [
    "##### Read Dataset"
   ]
  },
  {
   "cell_type": "code",
   "execution_count": null,
   "metadata": {},
   "outputs": [],
   "source": [
    "series = read_csv('data16.csv', header=0, index_col=0, parse_dates=True, squeeze=True)\n",
    "print(series.head())"
   ]
  },
  {
   "cell_type": "markdown",
   "metadata": {},
   "source": [
    "##### Minimum Daily Temperature Line Plot"
   ]
  },
  {
   "cell_type": "code",
   "execution_count": null,
   "metadata": {},
   "outputs": [],
   "source": [
    "series.plot()\n",
    "pyplot.show()"
   ]
  },
  {
   "cell_type": "markdown",
   "metadata": {},
   "source": [
    "##### Minimum Daily Temperature Dot Plot"
   ]
  },
  {
   "cell_type": "code",
   "execution_count": null,
   "metadata": {
    "scrolled": true
   },
   "outputs": [],
   "source": [
    "series.plot(style='k.')\n",
    "pyplot.show()"
   ]
  },
  {
   "cell_type": "markdown",
   "metadata": {},
   "source": [
    "##### Minimum Daily Temperature Yearly Line Plots"
   ]
  },
  {
   "cell_type": "code",
   "execution_count": null,
   "metadata": {
    "scrolled": true
   },
   "outputs": [],
   "source": [
    "from pandas import DataFrame\n",
    "from pandas import Grouper\n",
    "\n",
    "groups = series.groupby(Grouper(freq='A'))\n",
    "years = DataFrame()\n",
    "for name, group in groups:\n",
    "    years[name.year] = group.values\n",
    "years.plot(subplots=True, legend=False)\n",
    "pyplot.show()"
   ]
  },
  {
   "cell_type": "markdown",
   "metadata": {},
   "source": [
    "##### Minimum Daily Temperature Histogram Plot"
   ]
  },
  {
   "cell_type": "code",
   "execution_count": null,
   "metadata": {},
   "outputs": [],
   "source": [
    "series.hist()\n",
    "pyplot.show()"
   ]
  },
  {
   "cell_type": "markdown",
   "metadata": {},
   "source": [
    "##### Minimum Daily Temperature Density Plot"
   ]
  },
  {
   "cell_type": "code",
   "execution_count": null,
   "metadata": {
    "scrolled": true
   },
   "outputs": [],
   "source": [
    "series.plot(kind='kde')\n",
    "pyplot.show()"
   ]
  },
  {
   "cell_type": "markdown",
   "metadata": {},
   "source": [
    "##### Minimum Daily Temperature Yearly Box and Whisker Plots"
   ]
  },
  {
   "cell_type": "code",
   "execution_count": null,
   "metadata": {},
   "outputs": [],
   "source": [
    "from pandas import DataFrame\n",
    "from pandas import Grouper\n",
    "groups = series.groupby(Grouper(freq='A'))\n",
    "years = DataFrame()\n",
    "for name, group in groups:\n",
    "    years[name.year] = group.values\n",
    "years.boxplot()\n",
    "pyplot.show()"
   ]
  },
  {
   "cell_type": "markdown",
   "metadata": {},
   "source": [
    "##### Minimum Daily Temperature Yearly Heat Map Plot"
   ]
  },
  {
   "cell_type": "code",
   "execution_count": null,
   "metadata": {
    "scrolled": true
   },
   "outputs": [],
   "source": [
    "from pandas import Grouper\n",
    "from matplotlib import pyplot\n",
    "groups = series.groupby(Grouper(freq='A'))\n",
    "years = DataFrame()\n",
    "for name, group in groups:\n",
    "    years[name.year] = group.values\n",
    "years = years.T\n",
    "pyplot.matshow(years, interpolation=None, aspect='auto')\n",
    "pyplot.show()"
   ]
  },
  {
   "cell_type": "markdown",
   "metadata": {},
   "source": [
    "##### Minimum Daily Temperature Lag Plot"
   ]
  },
  {
   "cell_type": "code",
   "execution_count": null,
   "metadata": {
    "scrolled": true
   },
   "outputs": [],
   "source": [
    "from pandas.plotting import lag_plot\n",
    "lag_plot(series)\n",
    "pyplot.show()"
   ]
  },
  {
   "cell_type": "markdown",
   "metadata": {},
   "source": [
    "##### Minimum Daily Temperature Autocorrelation Plot"
   ]
  },
  {
   "cell_type": "code",
   "execution_count": null,
   "metadata": {},
   "outputs": [],
   "source": [
    "from pandas.plotting import autocorrelation_plot\n",
    "autocorrelation_plot(series)\n",
    "pyplot.show()"
   ]
  }
 ],
 "metadata": {
  "colab": {
   "collapsed_sections": [],
   "name": "Day02 - Session 3 (Data Visualization).ipynb",
   "provenance": []
  },
  "kernelspec": {
   "display_name": "Python 3",
   "language": "python",
   "name": "python3"
  },
  "language_info": {
   "codemirror_mode": {
    "name": "ipython",
    "version": 3
   },
   "file_extension": ".py",
   "mimetype": "text/x-python",
   "name": "python",
   "nbconvert_exporter": "python",
   "pygments_lexer": "ipython3",
   "version": "3.7.7"
  }
 },
 "nbformat": 4,
 "nbformat_minor": 1
}
