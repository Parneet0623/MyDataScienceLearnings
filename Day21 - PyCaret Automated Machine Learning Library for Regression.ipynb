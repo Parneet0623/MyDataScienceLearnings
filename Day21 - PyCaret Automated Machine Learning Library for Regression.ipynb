{
 "cells": [
  {
   "cell_type": "markdown",
   "metadata": {},
   "source": [
    "# <span style='color:DarkBlue'> Day21 - PyCaret for  </span> <span style='color:Red'> Regression </span>\n",
    "\n",
    "- ### An open source automated library for Machine Learning.\n",
    "- ### <span style='color:Red'> Three Step Process</span> to build machine learning models for:\n",
    "    - Classification\n",
    "    - Regression\n",
    "    - Clustering\n",
    "\n",
    "### Self Learning Resource\n",
    "1. Explore Pycaret mannual on Regression: <a href=\"https://pycaret.org/regression/\"> Click Here </a>\n",
    "2. Tutorial on Pycaret <a href=\"https://pycaret.readthedocs.io/en/latest/tutorials.html\"> Click Here</a> \n",
    "\n",
    "\n",
    "\n",
    "### <span style='color:DarkBlue'> Method 1</span>: To install `pycaret`\n",
    "- Installing PyCaret in Local Jupyter Notebook, Google Colab or Azure Notebooks\n",
    "    - Using conda: `!conda install pycaret`\n",
    "    - Using pip: `!pip install pycaret`\n",
    "- Installing PyCaret in Anaconda\n",
    "    - Using conda: `conda install pycaret`\n",
    "    - Using pip: `pip install pycaret`\n",
    "\n",
    "\n",
    "### <span style='color:DarkBlue'> Method 2</span>: To install `pycaret` | Online manual to install pycaret <a href=\"https://pycaret.org/install/\"> Click Here</a> \n",
    "-  <span style='color:DarkRed'> Step 1</span>: To Install pycaret (One Time)\n",
    "    - Open Anaconda prompt\n",
    "    - Create a conda environment: `conda create --name myenv python=3.6`\n",
    "    - Activate environment: `conda activate myenv`\n",
    "    - To install pycaret: `pip install pycaret`\n",
    "\n",
    "-  <span style='color:DarkRed'> Step 2</span>: To use pycaret environment through Jypyter notebook (Always)\n",
    "    - Open Anaconda prompt\n",
    "    - Activate environment: `conda activate myenv`\n",
    "    - Start Jupyter Notebook: `jupyter notebook`\n",
    "\n",
    "\n",
    "\n",
    "### In this tutorial we will learn:\n",
    "\n",
    "- Getting Data: How to import data from PyCaret repository\n",
    "- Setting up Environment: How to setup an experiment in PyCaret and get started with building regression models\n",
    "- Create Model: How to create a model, perform cross validation and evaluate regression metrics\n",
    "- Tune Model: How to automatically tune the hyperparameters of a regression model\n",
    "- Plot Model: How to analyze model performance using various plots\n",
    "- Finalize Model: How to finalize the best model at the end of the experiment\n",
    "- Predict Model: How to make prediction on new / unseen data\n",
    "- Save / Load Model: How to save / load a model for future use\n"
   ]
  },
  {
   "cell_type": "markdown",
   "metadata": {},
   "source": [
    "# <span style='color:Red'> 1. Regression: Basics </span>"
   ]
  },
  {
   "cell_type": "markdown",
   "metadata": {},
   "source": [
    "### <span style='color:DarkBlue'>1.1 Data loading</span>"
   ]
  },
  {
   "cell_type": "markdown",
   "metadata": {},
   "source": [
    "#### Get the version of the pycaret"
   ]
  },
  {
   "cell_type": "code",
   "execution_count": null,
   "metadata": {},
   "outputs": [],
   "source": [
    "from pycaret.utils import version\n",
    "version()"
   ]
  },
  {
   "cell_type": "markdown",
   "metadata": {},
   "source": [
    "#### Loading dataset from pycaret"
   ]
  },
  {
   "cell_type": "code",
   "execution_count": null,
   "metadata": {},
   "outputs": [],
   "source": [
    "from pycaret.datasets import get_data"
   ]
  },
  {
   "cell_type": "markdown",
   "metadata": {},
   "source": [
    "#### Get the list of datasets available in pycaret"
   ]
  },
  {
   "cell_type": "code",
   "execution_count": null,
   "metadata": {},
   "outputs": [],
   "source": [
    "# Internet connection is required\n",
    "dataSets = get_data('index')\n",
    "dataSets"
   ]
  },
  {
   "cell_type": "markdown",
   "metadata": {},
   "source": [
    "#### Get boston dataset"
   ]
  },
  {
   "cell_type": "code",
   "execution_count": null,
   "metadata": {
    "scrolled": true
   },
   "outputs": [],
   "source": [
    "# Internet connection is required\n",
    "boston_df = get_data(\"boston\")\n",
    "# This is regression dataset. The values in medv are continuous values"
   ]
  },
  {
   "cell_type": "markdown",
   "metadata": {},
   "source": [
    "#### Get the dimention of dataset"
   ]
  },
  {
   "cell_type": "code",
   "execution_count": null,
   "metadata": {},
   "outputs": [],
   "source": [
    "print(boston_df.shape)"
   ]
  },
  {
   "cell_type": "markdown",
   "metadata": {},
   "source": [
    "#### Remove duplicates"
   ]
  },
  {
   "cell_type": "code",
   "execution_count": null,
   "metadata": {},
   "outputs": [],
   "source": [
    "print(boston_df.shape)\n",
    "boston_df.drop_duplicates()\n",
    "print(boston_df.shape)"
   ]
  },
  {
   "cell_type": "markdown",
   "metadata": {},
   "source": [
    "### <span style='color:DarkBlue'>1.2 Parameter setting for all regression models</span>\n",
    "- Train/Test division\n",
    "- Sampling\n",
    "- Normalization\n",
    "- Transformation\n",
    "- PCA (Dimention Reduction)\n",
    "- Handaling of Outliers\n",
    "- Feature Selection"
   ]
  },
  {
   "cell_type": "markdown",
   "metadata": {},
   "source": [
    "#### Setup parameters for regression models (defaults)"
   ]
  },
  {
   "cell_type": "code",
   "execution_count": null,
   "metadata": {},
   "outputs": [],
   "source": [
    "from pycaret.regression import *\n",
    "reg = setup(data = boston_df, target='medv')"
   ]
  },
  {
   "cell_type": "markdown",
   "metadata": {},
   "source": [
    "### <span style='color:DarkBlue'>1.3 Run and compare the Model Performance</span>"
   ]
  },
  {
   "cell_type": "markdown",
   "metadata": {},
   "source": [
    "#### Comparing models"
   ]
  },
  {
   "cell_type": "code",
   "execution_count": null,
   "metadata": {},
   "outputs": [],
   "source": [
    "compare_models()\n",
    "# Explore more parameters"
   ]
  },
  {
   "cell_type": "markdown",
   "metadata": {},
   "source": [
    "### <span style='color:DarkBlue'>1.4 Plot the Best Model</span>"
   ]
  },
  {
   "cell_type": "markdown",
   "metadata": {},
   "source": [
    "##### Plot Residuals"
   ]
  },
  {
   "cell_type": "code",
   "execution_count": null,
   "metadata": {},
   "outputs": [],
   "source": [
    "catboostModel = create_model('catboost')\n",
    "plot_model(catboostModel, plot='residuals')"
   ]
  },
  {
   "cell_type": "markdown",
   "metadata": {},
   "source": [
    "##### Plot Error (Scatter Plot)"
   ]
  },
  {
   "cell_type": "code",
   "execution_count": null,
   "metadata": {},
   "outputs": [],
   "source": [
    "plot_model(catboostModel, plot='error')"
   ]
  },
  {
   "cell_type": "markdown",
   "metadata": {},
   "source": [
    "##### Plot Learning Curve"
   ]
  },
  {
   "cell_type": "code",
   "execution_count": null,
   "metadata": {
    "scrolled": true
   },
   "outputs": [],
   "source": [
    "plot_model(catboostModel, plot='learning')"
   ]
  },
  {
   "cell_type": "markdown",
   "metadata": {},
   "source": [
    "##### Plot Validation Curve"
   ]
  },
  {
   "cell_type": "code",
   "execution_count": null,
   "metadata": {},
   "outputs": [],
   "source": [
    "# Take long time and may show error\n",
    "#plot_model(catboostModel, plot='vc')"
   ]
  },
  {
   "cell_type": "markdown",
   "metadata": {},
   "source": [
    "# <span style='color:Red'> 2. Regression: Advance - Part 1  </span>"
   ]
  },
  {
   "cell_type": "markdown",
   "metadata": {},
   "source": [
    "### <span style='color:DarkBlue'>2.1 Model Performance using Data Normalization</span>"
   ]
  },
  {
   "cell_type": "code",
   "execution_count": null,
   "metadata": {},
   "outputs": [],
   "source": [
    "setup(data = boston_df, target = 'medv', normalize = True, normalize_method = 'zscore')\n",
    "compare_models()\n",
    "\n",
    "#normalize_method = {zscore, minmax, maxabs, robust}"
   ]
  },
  {
   "cell_type": "markdown",
   "metadata": {},
   "source": [
    "### <span style='color:DarkBlue'>2.2 Model Performance using Feature Selection</span>"
   ]
  },
  {
   "cell_type": "code",
   "execution_count": null,
   "metadata": {},
   "outputs": [],
   "source": [
    "setup(data = boston_df, target = 'medv', feature_selection = True, feature_selection_threshold = 0.8)\n",
    "compare_models()"
   ]
  },
  {
   "cell_type": "markdown",
   "metadata": {},
   "source": [
    "### <span style='color:DarkBlue'>2.3 Model Performance using Outlier Removal</span>"
   ]
  },
  {
   "cell_type": "code",
   "execution_count": null,
   "metadata": {},
   "outputs": [],
   "source": [
    "setup(data = boston_df, target = 'medv', remove_outliers = True, outliers_threshold = 0.05)\n",
    "compare_models()"
   ]
  },
  {
   "cell_type": "markdown",
   "metadata": {},
   "source": [
    "### <span style='color:DarkBlue'>2.4 Model Performance using Transformation</span>"
   ]
  },
  {
   "cell_type": "code",
   "execution_count": null,
   "metadata": {},
   "outputs": [],
   "source": [
    "setup(data = boston_df, target = 'medv', transformation = True, transformation_method = 'yeo-johnson')\n",
    "compare_models()"
   ]
  },
  {
   "cell_type": "markdown",
   "metadata": {},
   "source": [
    "### <span style='color:DarkBlue'>2.5 Model Performance using PCA</span>"
   ]
  },
  {
   "cell_type": "code",
   "execution_count": null,
   "metadata": {},
   "outputs": [],
   "source": [
    "setup(data = boston_df, target = 'medv', pca = True, pca_method = 'linear')\n",
    "compare_models()"
   ]
  },
  {
   "cell_type": "markdown",
   "metadata": {},
   "source": [
    "# <span style='color:Red'> 3. Regression: Advance - Part 2  </span>"
   ]
  },
  {
   "cell_type": "markdown",
   "metadata": {},
   "source": [
    "### <span style='color:DarkBlue'>3.1 Running single model</span>"
   ]
  },
  {
   "cell_type": "code",
   "execution_count": null,
   "metadata": {},
   "outputs": [],
   "source": [
    "reg_model_catboost = create_model('catboost', fold=10)\n",
    "# Explore more parameters"
   ]
  },
  {
   "cell_type": "markdown",
   "metadata": {},
   "source": [
    "#### Other models"
   ]
  },
  {
   "cell_type": "code",
   "execution_count": null,
   "metadata": {},
   "outputs": [],
   "source": [
    "# Create Other Models\n",
    "Linear Regression             'lr'                   linear_model.LinearRegression\n",
    "Lasso Regression              'lasso'                linear_model.Lasso\n",
    "Ridge Regression              'ridge'                linear_model.Ridge\n",
    "Elastic Net                   'en'                   linear_model.ElasticNet\n",
    "Least Angle Regression        'lar'                  linear_model.Lars\n",
    "Lasso Least Angle Regression  'llar'                 linear_model.LassoLars\n",
    "Orthogonal Matching Pursuit   'omp'                  linear_model.OMP\n",
    "Bayesian Ridge                'br'                   linear_model.BayesianRidge\n",
    "Automatic Relevance Determ.   'ard'                  linear_model.ARDRegression\n",
    "Passive Aggressive Regressor  'par'                  linear_model.PAR\n",
    "Random Sample Consensus       'ransac'               linear_model.RANSACRegressor\n",
    "TheilSen Regressor            'tr'                   linear_model.TheilSenRegressor\n",
    "Huber Regressor               'huber'                linear_model.HuberRegressor \n",
    "Kernel Ridge                  'kr'                   kernel_ridge.KernelRidge\n",
    "Support Vector Machine        'svm'                  svm.SVR\n",
    "K Neighbors Regressor         'knn'                  neighbors.KNeighborsRegressor \n",
    "Decision Tree                 'dt'                   tree.DecisionTreeRegressor\n",
    "Random Forest                 'rf'                   ensemble.RandomForestRegressor\n",
    "Extra Trees Regressor         'et'                   ensemble.ExtraTreesRegressor\n",
    "AdaBoost Regressor            'ada'                  ensemble.AdaBoostRegressor\n",
    "Gradient Boosting             'gbr'                  ensemble.GradientBoostingRegressor \n",
    "Multi Level Perceptron        'mlp'                  neural_network.MLPRegressor\n",
    "Extreme Gradient Boosting     'xgboost'              xgboost.readthedocs.io\n",
    "Light Gradient Boosting       'lightgbm'             github.com/microsoft/LightGBM\n",
    "CatBoost Regressor            'catboost'             https://catboost.ai"
   ]
  },
  {
   "cell_type": "markdown",
   "metadata": {},
   "source": [
    "### <span style='color:DarkBlue'>3.2 Parameter tuning for model</span>"
   ]
  },
  {
   "cell_type": "code",
   "execution_count": null,
   "metadata": {},
   "outputs": [],
   "source": [
    "reg_model_catboost_tuned = tune_model(reg_model_catboost, n_iter=10, optimize = 'mae')\n",
    "# Explore more parameters"
   ]
  },
  {
   "cell_type": "markdown",
   "metadata": {},
   "source": [
    "### <span style='color:DarkBlue'>3.3 Save the trained model </span>"
   ]
  },
  {
   "cell_type": "code",
   "execution_count": null,
   "metadata": {},
   "outputs": [],
   "source": [
    "save_model(reg_model_catboost_tuned, 'CatBoostModel')"
   ]
  },
  {
   "cell_type": "markdown",
   "metadata": {},
   "source": [
    "### <span style='color:DarkBlue'>3.4 Load the model </span>"
   ]
  },
  {
   "cell_type": "code",
   "execution_count": null,
   "metadata": {},
   "outputs": [],
   "source": [
    "CatBoostModel = load_model('CatBoostModel')"
   ]
  },
  {
   "cell_type": "markdown",
   "metadata": {},
   "source": [
    "### <span style='color:DarkBlue'>3.5 Make prediction on new dataset</span>"
   ]
  },
  {
   "cell_type": "markdown",
   "metadata": {},
   "source": [
    "#### Read New Data"
   ]
  },
  {
   "cell_type": "code",
   "execution_count": null,
   "metadata": {},
   "outputs": [],
   "source": [
    "data = get_data(\"boston\")"
   ]
  },
  {
   "cell_type": "markdown",
   "metadata": {},
   "source": [
    "#### Select some data"
   ]
  },
  {
   "cell_type": "code",
   "execution_count": null,
   "metadata": {},
   "outputs": [],
   "source": [
    "# Select top 10 rows\n",
    "new_data = data.iloc[:10]\n",
    "new_data"
   ]
  },
  {
   "cell_type": "markdown",
   "metadata": {},
   "source": [
    "#### Make prediction on new dataset"
   ]
  },
  {
   "cell_type": "code",
   "execution_count": null,
   "metadata": {},
   "outputs": [],
   "source": [
    "newPredictions = predict_model(CatBoostModel, data = new_data)\n",
    "newPredictions"
   ]
  },
  {
   "cell_type": "markdown",
   "metadata": {},
   "source": [
    "### <span style='color:DarkBlue'>3.6 Scatter plot b/w actual and predicted</span>"
   ]
  },
  {
   "cell_type": "code",
   "execution_count": null,
   "metadata": {},
   "outputs": [],
   "source": [
    "import matplotlib.pyplot as plt\n",
    "actual = newPredictions.iloc[:,-2]\n",
    "predicted = newPredictions.iloc[:,-1]\n",
    "plt.scatter(actual, predicted)\n",
    "plt.xlabel('Predicted')\n",
    "plt.ylabel('Actual')\n",
    "plt.title('Actul Vs Predicted')\n",
    "plt.savefig(\"result-scatter-plot-lss.jpg\", dpi=300)\n",
    "plt.show()"
   ]
  },
  {
   "cell_type": "markdown",
   "metadata": {},
   "source": [
    "### <span style='color:DarkBlue'>3.7 Save prediction results to csv</span>"
   ]
  },
  {
   "cell_type": "code",
   "execution_count": null,
   "metadata": {},
   "outputs": [],
   "source": [
    "newPredictions.to_csv(\"NewPredictions.csv\")\n",
    "# Email the result to the user"
   ]
  },
  {
   "cell_type": "markdown",
   "metadata": {},
   "source": [
    "### <span style='color:DarkBlue'>3.8 Plot the Model</span>"
   ]
  },
  {
   "cell_type": "code",
   "execution_count": null,
   "metadata": {},
   "outputs": [],
   "source": [
    "Residuals Plot               'residuals'\n",
    "Prediction Error Plot        'error'\n",
    "Cooks Distance Plot          'cooks'\n",
    "Recursive Feat. Selection    'rfe'\n",
    "Learning Curve               'learning'\n",
    "Validation Curve             'vc'\n",
    "Manifold Learning            'manifold'\n",
    "Feature Importance           'feature'\n",
    "Model Hyperparameter         'parameter'"
   ]
  },
  {
   "cell_type": "markdown",
   "metadata": {},
   "source": [
    "#### Create RandomForest"
   ]
  },
  {
   "cell_type": "code",
   "execution_count": null,
   "metadata": {},
   "outputs": [],
   "source": [
    "rf = create_model('rf')"
   ]
  },
  {
   "cell_type": "markdown",
   "metadata": {},
   "source": [
    "##### Plot Residuals"
   ]
  },
  {
   "cell_type": "code",
   "execution_count": null,
   "metadata": {},
   "outputs": [],
   "source": [
    "plot_model(rf, plot='residuals')"
   ]
  },
  {
   "cell_type": "markdown",
   "metadata": {},
   "source": [
    "##### Plot Error"
   ]
  },
  {
   "cell_type": "code",
   "execution_count": null,
   "metadata": {},
   "outputs": [],
   "source": [
    "plot_model(rf, plot='error')"
   ]
  },
  {
   "cell_type": "markdown",
   "metadata": {},
   "source": [
    "##### Plot Cooks Distance Plot"
   ]
  },
  {
   "cell_type": "code",
   "execution_count": null,
   "metadata": {},
   "outputs": [],
   "source": [
    "plot_model(rf, plot='cooks')"
   ]
  },
  {
   "cell_type": "markdown",
   "metadata": {},
   "source": [
    "##### Plot Recursive Feature Selection"
   ]
  },
  {
   "cell_type": "code",
   "execution_count": null,
   "metadata": {},
   "outputs": [],
   "source": [
    "# Take 3-4 minutes\n",
    "# plot_model(rf, plot='rfe')"
   ]
  },
  {
   "cell_type": "markdown",
   "metadata": {},
   "source": [
    "##### Plot Learning Curve"
   ]
  },
  {
   "cell_type": "code",
   "execution_count": null,
   "metadata": {},
   "outputs": [],
   "source": [
    "plot_model(rf, plot='learning')"
   ]
  },
  {
   "cell_type": "markdown",
   "metadata": {},
   "source": [
    "##### Plot Validation Curve"
   ]
  },
  {
   "cell_type": "code",
   "execution_count": null,
   "metadata": {},
   "outputs": [],
   "source": [
    "plot_model(rf, plot='vc')"
   ]
  },
  {
   "cell_type": "markdown",
   "metadata": {},
   "source": [
    "##### Plot Manifold Learning"
   ]
  },
  {
   "cell_type": "code",
   "execution_count": null,
   "metadata": {},
   "outputs": [],
   "source": [
    "plot_model(rf, plot='manifold')"
   ]
  },
  {
   "cell_type": "markdown",
   "metadata": {},
   "source": [
    "##### Plot Model Hyperparameter"
   ]
  },
  {
   "cell_type": "code",
   "execution_count": null,
   "metadata": {},
   "outputs": [],
   "source": [
    "plot_model(rf, plot='parameter')"
   ]
  },
  {
   "cell_type": "markdown",
   "metadata": {},
   "source": [
    "### <span style='color:DarkBlue'>3.9 Feature Importance</span>"
   ]
  },
  {
   "cell_type": "markdown",
   "metadata": {},
   "source": [
    "#### Feature Importance-1"
   ]
  },
  {
   "cell_type": "code",
   "execution_count": null,
   "metadata": {},
   "outputs": [],
   "source": [
    "model = create_model('catboost')\n",
    "plot_model(model, plot='feature')"
   ]
  },
  {
   "cell_type": "markdown",
   "metadata": {},
   "source": [
    "#### Feature Importance-2"
   ]
  },
  {
   "cell_type": "code",
   "execution_count": null,
   "metadata": {},
   "outputs": [],
   "source": [
    "model = create_model('et')\n",
    "plot_model(model, plot='feature')"
   ]
  },
  {
   "cell_type": "markdown",
   "metadata": {},
   "source": [
    "#### Feature Importance-3"
   ]
  },
  {
   "cell_type": "code",
   "execution_count": null,
   "metadata": {},
   "outputs": [],
   "source": [
    "model = create_model('lightgbm')\n",
    "plot_model(model, plot='feature')"
   ]
  },
  {
   "cell_type": "markdown",
   "metadata": {},
   "source": [
    "#### Feature Importance-4"
   ]
  },
  {
   "cell_type": "code",
   "execution_count": null,
   "metadata": {},
   "outputs": [],
   "source": [
    "model = create_model('gbr')\n",
    "plot_model(model, plot='feature')"
   ]
  },
  {
   "cell_type": "markdown",
   "metadata": {},
   "source": [
    "#### Feature Importance-5"
   ]
  },
  {
   "cell_type": "code",
   "execution_count": null,
   "metadata": {},
   "outputs": [],
   "source": [
    "model = create_model('xgboost')\n",
    "plot_model(model, plot='feature')"
   ]
  },
  {
   "cell_type": "markdown",
   "metadata": {},
   "source": [
    "#### Feature Importance-6"
   ]
  },
  {
   "cell_type": "code",
   "execution_count": null,
   "metadata": {},
   "outputs": [],
   "source": [
    "model = create_model('rf')\n",
    "plot_model(model, plot='feature')"
   ]
  },
  {
   "cell_type": "markdown",
   "metadata": {},
   "source": [
    "### <span style='color:DarkBlue'>3.10 Deploy the model on AWS</span>  <a href=\"https://pycaret.org/regression/#deploy-model\">Click Here</a>"
   ]
  },
  {
   "cell_type": "markdown",
   "metadata": {},
   "source": [
    "### Self Learning Resource\n",
    "1. Explore Pycaret mannual on Regression: <a href=\"https://pycaret.org/regression/\"> Click Here </a>\n",
    "2. Tutorial on Pycaret <a href=\"https://pycaret.readthedocs.io/en/latest/tutorials.html\"> Click Here</a> "
   ]
  }
 ],
 "metadata": {
  "kernelspec": {
   "display_name": "Python 3",
   "language": "python",
   "name": "python3"
  },
  "language_info": {
   "codemirror_mode": {
    "name": "ipython",
    "version": 3
   },
   "file_extension": ".py",
   "mimetype": "text/x-python",
   "name": "python",
   "nbconvert_exporter": "python",
   "pygments_lexer": "ipython3",
   "version": "3.8.5"
  }
 },
 "nbformat": 4,
 "nbformat_minor": 4
}
