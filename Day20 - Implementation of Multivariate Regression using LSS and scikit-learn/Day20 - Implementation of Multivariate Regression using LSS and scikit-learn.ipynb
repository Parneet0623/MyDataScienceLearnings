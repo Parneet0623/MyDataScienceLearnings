{
 "cells": [
  {
   "cell_type": "markdown",
   "metadata": {
    "colab_type": "text",
    "id": "eaNq4Gmi9Qic"
   },
   "source": [
    "## Day20 - Implementation of Multivariate Regression using LSS and scikit-learn\n",
    "\n",
    "##### Self Learning Resource\n",
    " - Machine Learning - Multiple Linear Regression by Dr. Parteek Bhatia\n",
    " <a href=\"https://www.youtube.com/watch?v=GKHkbyo9S3k&t=43s\"> Video</a>\n",
    " - Implementation of Multiple Linear Regression by Dr. Parteek Bhatia \n",
    "<a href=\"https://www.youtube.com/watch?v=5uW-hSxi9pU\"> Video1</a>\n",
    "<a href=\"https://www.youtube.com/watch?v=0zMTEUB_4qU\"> Video2</a>\n",
    "<a href=\"https://www.youtube.com/watch?v=d5RIuw9MA-U\"> Video3</a>\n",
    "<a href=\"https://www.youtube.com/watch?v=YlOmQ6T1guU\"> Video4</a>\n",
    "<a href=\"https://www.youtube.com/watch?v=tE90_VCNTgI\"> Video5</a>\n"
   ]
  },
  {
   "cell_type": "markdown",
   "metadata": {},
   "source": [
    "#  <span style='color:Red'>1.  Generate random set of weights (Chromosome)</span>"
   ]
  },
  {
   "cell_type": "markdown",
   "metadata": {},
   "source": [
    "### 1.1 Generate random Chromosome"
   ]
  },
  {
   "cell_type": "code",
   "execution_count": null,
   "metadata": {},
   "outputs": [],
   "source": [
    "# To generate 10 chromosome of size 5\n",
    "\n",
    "import random\n",
    "import pandas as pd\n",
    "\n",
    "for i in range(0, 10):\n",
    "    chromosome = [ round(random.uniform(-1,1), 2) for j in range(0,5)]\n",
    "    print(chromosome)"
   ]
  },
  {
   "cell_type": "markdown",
   "metadata": {},
   "source": [
    "### 1.2 Dot product"
   ]
  },
  {
   "cell_type": "code",
   "execution_count": null,
   "metadata": {},
   "outputs": [],
   "source": [
    "x = pd.Series([1, 2, 3, 4])\n",
    "\n",
    "y = pd.Series([5, 4, 3, 2])\n",
    "#y = [5, 4, 3, 2]        # Also work\n",
    "\n",
    "# 1*5 + 2*4 + 3*3 + 4*2 => 5 + 8 + 9 + 8 = 30\n",
    "x.dot(y)\n"
   ]
  },
  {
   "cell_type": "markdown",
   "metadata": {},
   "source": [
    "#  <span style='color:Red'>2. Multivariate regression using Least Sum of Square (LSS)</span>"
   ]
  },
  {
   "cell_type": "markdown",
   "metadata": {},
   "source": [
    "### 2.1 Import library"
   ]
  },
  {
   "cell_type": "code",
   "execution_count": null,
   "metadata": {},
   "outputs": [],
   "source": [
    "import random\n",
    "import numpy as np\n",
    "import pandas as pd\n",
    "import matplotlib.pyplot as plt"
   ]
  },
  {
   "cell_type": "markdown",
   "metadata": {},
   "source": [
    "### 2.2 Read the dataset"
   ]
  },
  {
   "cell_type": "code",
   "execution_count": null,
   "metadata": {},
   "outputs": [],
   "source": [
    "df = pd.read_csv('data20.csv')\n",
    "df.head()"
   ]
  },
  {
   "cell_type": "markdown",
   "metadata": {},
   "source": [
    "### 2.3 Get the dimention of  the dataset"
   ]
  },
  {
   "cell_type": "code",
   "execution_count": null,
   "metadata": {},
   "outputs": [],
   "source": [
    "df.shape"
   ]
  },
  {
   "cell_type": "markdown",
   "metadata": {},
   "source": [
    "### 2.4 Divide dataset into train and test"
   ]
  },
  {
   "cell_type": "code",
   "execution_count": null,
   "metadata": {},
   "outputs": [],
   "source": [
    "p = int(df.shape[0]*0.7)\n",
    "\n",
    "df_train = df.iloc[:p]      # Also works --> df_train = df.loc[:p]\n",
    "df_test = df.iloc[p:]       # Also Works --> df_test = df.loc[p:]\n",
    "\n",
    "print(\"Train Data\\n\\n\",df_train)\n",
    "print(\"\\n\\nTest Data\\n\\n\",df_test)"
   ]
  },
  {
   "cell_type": "markdown",
   "metadata": {},
   "source": [
    "### 2.5 Parameter Setting"
   ]
  },
  {
   "cell_type": "code",
   "execution_count": null,
   "metadata": {},
   "outputs": [],
   "source": [
    "iterations      = 500                  # Number of Iterations\n",
    "bestFitness     = 99999999             # Store Best Fitness Value\n",
    "bestChromosome  = []                   # Store the set of best weight (Chromosome)\n",
    "resultFileName  =\"result-Random-weights-lss.csv\"   # Store the best fitness value after every iteration\n",
    "total           = df_train.shape[0]          # Total no of records(rows)\n",
    "D               = df_train.shape[1] - 1      # Problem Dimension\n",
    "LB              = -1                  # Set Size Lower Bound\n",
    "UB              = 1     # Set Size Upper Bound"
   ]
  },
  {
   "cell_type": "markdown",
   "metadata": {},
   "source": [
    "### 2.6 Fitness Function (LSS)"
   ]
  },
  {
   "cell_type": "code",
   "execution_count": null,
   "metadata": {},
   "outputs": [],
   "source": [
    "def FitnessFunction(x):       # x = chromosomes (set of weight)\n",
    "    s=0\n",
    "    for i in range(total):\n",
    "        s = s + abs(df_train.iloc[i,0] - df_train.iloc[i,1:].dot(x))\n",
    "    return round(s,2)"
   ]
  },
  {
   "cell_type": "markdown",
   "metadata": {},
   "source": [
    "##### Example"
   ]
  },
  {
   "cell_type": "code",
   "execution_count": null,
   "metadata": {},
   "outputs": [],
   "source": [
    "i = 0\n",
    "w = [0.42, 0.0, 0.7, 0.98, 0.98, -0.27]\n",
    "\n",
    "print(\"Row =\", list(df_train.iloc[i].values))\n",
    "print(\"\\nC = \", df_train.iloc[i,0])\n",
    "print(\"\\nF = \", list(df_train.iloc[i,1:].values))\n",
    "print(\"\\nx = \", w)\n",
    "\n",
    "df_train.iloc[i,1:].dot(w)\n"
   ]
  },
  {
   "cell_type": "markdown",
   "metadata": {},
   "source": [
    "### 2.7 Start main program"
   ]
  },
  {
   "cell_type": "code",
   "execution_count": null,
   "metadata": {},
   "outputs": [],
   "source": [
    "# Saving Result\n",
    "fp = open(resultFileName,\"w\")\n",
    "fp.write(\"Iteration,Fitness,w1,w2,w3,w4,w5,w6\\n\")\n",
    "\n",
    "# Running till number of iterations\n",
    "for i in range(0,iterations):\n",
    "    \n",
    "    # Generate Chromosome (random weights)\n",
    "    chromosome = [ round(random.uniform(LB,UB),2) for j in range(0,D)]\n",
    "    \n",
    "    # Calculate the fitness of the chromosome\n",
    "    fitness = FitnessFunction(chromosome)\n",
    "    \n",
    "    if fitness < bestFitness:\n",
    "        bestFitness = fitness\n",
    "        bestChromosome = chromosome\n",
    "        \n",
    "    if i%10==0:\n",
    "        print(\"I:\",i,\"\\t Fitness:\", bestFitness)\n",
    "        fp.write(str(i) + \",\" + str(bestFitness)+ \",\" + str(bestChromosome) + \"\\n\")\n",
    "\n",
    "print(\"I:\",i,\"\\t Fitness:\",bestFitness)\n",
    "fp.write(str(i) + \",\" + str(bestFitness)+ \",\" + str(bestChromosome) + \"\\n\")\n",
    "fp.close()\n",
    "\n",
    "print(\"Done\")\n",
    "print(\"\\nBestFitness:\", bestFitness)\n",
    "print(\"Best chromosome:\", bestChromosome)"
   ]
  },
  {
   "cell_type": "markdown",
   "metadata": {},
   "source": [
    "### 2.8 Plot and save convergence graph"
   ]
  },
  {
   "cell_type": "code",
   "execution_count": null,
   "metadata": {},
   "outputs": [],
   "source": [
    "fp = pd.read_csv(resultFileName)\n",
    "fp.tail()"
   ]
  },
  {
   "cell_type": "code",
   "execution_count": null,
   "metadata": {},
   "outputs": [],
   "source": [
    "x = fp.iloc[:,0]\n",
    "y = fp.iloc[:,1]\n",
    "plt.plot(x,y)\n",
    "plt.xlabel('Iteration')\n",
    "plt.ylabel('Fitness Value')\n",
    "plt.title('Convergence Graph')\n",
    "plt.savefig(\"result-convergence-plot-lss.jpg\", dpi=300)\n",
    "plt.show()"
   ]
  },
  {
   "cell_type": "markdown",
   "metadata": {},
   "source": [
    "### 2.9 Make prediction on Test dataset"
   ]
  },
  {
   "cell_type": "markdown",
   "metadata": {},
   "source": [
    "##### Prediction"
   ]
  },
  {
   "cell_type": "code",
   "execution_count": null,
   "metadata": {},
   "outputs": [],
   "source": [
    "predicted = df_test.iloc[:,1:].dot(bestChromosome)\n",
    "print(predicted.shape)\n",
    "predicted.head()"
   ]
  },
  {
   "cell_type": "markdown",
   "metadata": {},
   "source": [
    "##### Extract actual"
   ]
  },
  {
   "cell_type": "code",
   "execution_count": null,
   "metadata": {},
   "outputs": [],
   "source": [
    "actual = df_test.iloc[:,0]\n",
    "print(actual.shape)\n",
    "actual.head()"
   ]
  },
  {
   "cell_type": "markdown",
   "metadata": {},
   "source": [
    "### 2.10 Performance Metrics"
   ]
  },
  {
   "cell_type": "code",
   "execution_count": null,
   "metadata": {},
   "outputs": [],
   "source": [
    "from sklearn import metrics\n",
    "\n",
    "print (\"Mean Absolute Error     -->\", metrics.mean_absolute_error(actual,predicted))\n",
    "print (\"Mean Squared Error      -->\", metrics.mean_squared_error(actual,predicted))\n",
    "print (\"Root Mean Squared Error -->\", np.sqrt(metrics.mean_squared_error(actual,predicted)))\n",
    "print (\"Correlation             -->\", np.corrcoef(actual,predicted)[1,0])"
   ]
  },
  {
   "cell_type": "markdown",
   "metadata": {},
   "source": [
    "### 2.11 Save actual/predicted to file"
   ]
  },
  {
   "cell_type": "code",
   "execution_count": null,
   "metadata": {},
   "outputs": [],
   "source": [
    "df_actual_predicted = pd.concat([actual, predicted], axis=1)\n",
    "\n",
    "df_actual_predicted.to_csv(\"result-actual-predicted-lss.csv\")"
   ]
  },
  {
   "cell_type": "markdown",
   "metadata": {},
   "source": [
    "### 2.12 Plot and save scatter plot"
   ]
  },
  {
   "cell_type": "code",
   "execution_count": null,
   "metadata": {},
   "outputs": [],
   "source": [
    "plt.scatter(actual, predicted)\n",
    "plt.xlabel('Predicted')\n",
    "plt.ylabel('Actual')\n",
    "plt.title('Actul Vs Predicted')\n",
    "plt.savefig(\"result-scatter-plot-lss.jpg\", dpi=300)\n",
    "plt.show()"
   ]
  },
  {
   "cell_type": "markdown",
   "metadata": {},
   "source": [
    "#  <span style='color:Red'>3. Multivariate regression using scikit-learn</span>"
   ]
  },
  {
   "cell_type": "markdown",
   "metadata": {},
   "source": [
    "### 3.1 Import library"
   ]
  },
  {
   "cell_type": "code",
   "execution_count": null,
   "metadata": {},
   "outputs": [],
   "source": [
    "import numpy as np\n",
    "import pandas as pd\n",
    "import matplotlib.pyplot as plt"
   ]
  },
  {
   "cell_type": "markdown",
   "metadata": {},
   "source": [
    "### 3.2 Read the dataset"
   ]
  },
  {
   "cell_type": "code",
   "execution_count": null,
   "metadata": {},
   "outputs": [],
   "source": [
    "df = pd.read_csv('data20.csv')\n",
    "df.head()"
   ]
  },
  {
   "cell_type": "markdown",
   "metadata": {},
   "source": [
    "### 3.3 Get the dimention of  the dataset"
   ]
  },
  {
   "cell_type": "code",
   "execution_count": null,
   "metadata": {},
   "outputs": [],
   "source": [
    "df.shape"
   ]
  },
  {
   "cell_type": "markdown",
   "metadata": {},
   "source": [
    "##### To Install package in notebook"
   ]
  },
  {
   "cell_type": "code",
   "execution_count": null,
   "metadata": {},
   "outputs": [],
   "source": [
    "# !pip install -U scikit-learn"
   ]
  },
  {
   "cell_type": "code",
   "execution_count": null,
   "metadata": {},
   "outputs": [],
   "source": [
    "# !conda install scikit-learn"
   ]
  },
  {
   "cell_type": "markdown",
   "metadata": {},
   "source": [
    "### 3.4 Divide dataset into train and test"
   ]
  },
  {
   "cell_type": "markdown",
   "metadata": {},
   "source": [
    "##### Split dataset into dependent (y) and independent (X) variables"
   ]
  },
  {
   "cell_type": "code",
   "execution_count": null,
   "metadata": {},
   "outputs": [],
   "source": [
    "X = df.iloc[:,1:].values\n",
    "y = df.iloc[:,0].values\n",
    "\n",
    "print(\"X.shape ->\", X.shape)\n",
    "print(\"y.shape ->\", y.shape)"
   ]
  },
  {
   "cell_type": "markdown",
   "metadata": {},
   "source": [
    "##### Split dataset into train and test"
   ]
  },
  {
   "cell_type": "code",
   "execution_count": null,
   "metadata": {},
   "outputs": [],
   "source": [
    "from sklearn.model_selection import train_test_split\n",
    "\n",
    "X_train, X_test, y_train, y_test = train_test_split(X, y, test_size = 0.3, random_state = 0)\n",
    "\n",
    "print(\"X_train.shape ->\", X_train.shape)\n",
    "print(\"X_test.shape  ->\", X_test.shape)\n",
    "print(\"y_train.shape ->\", y_train.shape)\n",
    "print(\"y_test.shape  ->\", y_test.shape)\n"
   ]
  },
  {
   "cell_type": "markdown",
   "metadata": {},
   "source": [
    "### 3.5 Train the linear model"
   ]
  },
  {
   "cell_type": "code",
   "execution_count": null,
   "metadata": {},
   "outputs": [],
   "source": [
    "from sklearn.linear_model import LinearRegression\n",
    "\n",
    "regressor = LinearRegression().fit(X_train, y_train)\n",
    "regressor"
   ]
  },
  {
   "cell_type": "markdown",
   "metadata": {},
   "source": [
    "##### Get the coefficient (weights) of the regressor"
   ]
  },
  {
   "cell_type": "code",
   "execution_count": null,
   "metadata": {},
   "outputs": [],
   "source": [
    "regressor.coef_"
   ]
  },
  {
   "cell_type": "markdown",
   "metadata": {},
   "source": [
    "### 3.6 Test the model"
   ]
  },
  {
   "cell_type": "code",
   "execution_count": null,
   "metadata": {},
   "outputs": [],
   "source": [
    "y_predict = regressor.predict(X_test)"
   ]
  },
  {
   "cell_type": "markdown",
   "metadata": {},
   "source": [
    "### 3.7 Performance Metrics"
   ]
  },
  {
   "cell_type": "code",
   "execution_count": null,
   "metadata": {},
   "outputs": [],
   "source": [
    "from sklearn import metrics\n",
    "\n",
    "print (\"Mean Absolute Error     -->\", metrics.mean_absolute_error(y_test,y_predict))\n",
    "print (\"Mean Squared Error      -->\", metrics.mean_squared_error(y_test,y_predict))\n",
    "print (\"Root Mean Squared Error -->\", np.sqrt(metrics.mean_squared_error(y_test,y_predict)))\n",
    "print (\"Correlation             -->\", np.corrcoef(y_test,y_predict)[1,0])"
   ]
  },
  {
   "cell_type": "markdown",
   "metadata": {},
   "source": [
    "### 3.8 Plot and save scatter plot"
   ]
  },
  {
   "cell_type": "code",
   "execution_count": null,
   "metadata": {},
   "outputs": [],
   "source": [
    "plt.scatter(y_test, y_predict)\n",
    "plt.xlabel('Predicted')\n",
    "plt.ylabel('Actual')\n",
    "plt.title('Actul Vs Predicted')\n",
    "plt.savefig(\"result-scatter-plot.jpg\", dpi=300)\n",
    "plt.show()"
   ]
  },
  {
   "cell_type": "markdown",
   "metadata": {},
   "source": [
    "### 3.9 Save actual/predicted to file"
   ]
  },
  {
   "cell_type": "code",
   "execution_count": null,
   "metadata": {},
   "outputs": [],
   "source": [
    "df_actual_predicted = pd.concat([pd.Series(y_test), pd.Series(y_predict)], axis=1)\n",
    "print(df_actual_predicted.head())\n",
    "df_actual_predicted.to_csv(\"result-actual-predicted.csv\")"
   ]
  }
 ],
 "metadata": {
  "colab": {
   "collapsed_sections": [],
   "name": "Day02 - Session 3 (Data Visualization).ipynb",
   "provenance": []
  },
  "kernelspec": {
   "display_name": "Python 3",
   "language": "python",
   "name": "python3"
  },
  "language_info": {
   "codemirror_mode": {
    "name": "ipython",
    "version": 3
   },
   "file_extension": ".py",
   "mimetype": "text/x-python",
   "name": "python",
   "nbconvert_exporter": "python",
   "pygments_lexer": "ipython3",
   "version": "3.7.7"
  }
 },
 "nbformat": 4,
 "nbformat_minor": 1
}
