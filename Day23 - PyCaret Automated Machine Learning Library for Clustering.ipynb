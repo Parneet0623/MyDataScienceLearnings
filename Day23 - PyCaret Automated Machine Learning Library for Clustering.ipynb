{
 "cells": [
  {
   "cell_type": "markdown",
   "metadata": {},
   "source": [
    "# <span style='color:DarkBlue'> Day23 - PyCaret for </span> <span style='color:Red'>Clustering</span>\n",
    "\n",
    "- ### An open source automated library for Machine Learning.\n",
    "- ### <span style='color:Red'> Three Step Process</span> to build machine learning models for:\n",
    "    - Classification\n",
    "    - Regression\n",
    "    - Clustering\n",
    "\n",
    "### Self Learning Resource\n",
    "1. Explore Pycaret mannual on Clustering: <a href=\"https://pycaret.org/clustering/\"> Click Here </a>\n",
    "2. Tutorial on Pycaret <a href=\"https://pycaret.readthedocs.io/en/latest/tutorials.html\"> Click Here</a> \n",
    "\n",
    "\n",
    "\n",
    "\n",
    "### <span style='color:DarkBlue'> Method 1</span>: To install `pycaret`\n",
    "- Installing PyCaret in Local Jupyter Notebook, Google Colab or Azure Notebooks\n",
    "    - Using conda: `!conda install pycaret`\n",
    "    - Using pip: `!pip install pycaret`\n",
    "- Installing PyCaret in Anaconda\n",
    "    - Using conda: `conda install pycaret`\n",
    "    - Using pip: `pip install pycaret`\n",
    "\n",
    "\n",
    "### <span style='color:DarkBlue'> Method 2</span>: To install `pycaret` | Online manual to install pycaret <a href=\"https://pycaret.org/install/\"> Click Here</a> \n",
    "-  <span style='color:DarkRed'> Step 1</span>: To Install pycaret (One Time)\n",
    "    - Open Anaconda prompt\n",
    "    - Create a conda environment: `conda create --name myenv python=3.6`\n",
    "    - Activate environment: `conda activate myenv`\n",
    "    - To install pycaret: `pip install pycaret`\n",
    "\n",
    "-  <span style='color:DarkRed'> Step 2</span>: To use pycaret environment through Jypyter notebook (Always)\n",
    "    - Open Anaconda prompt\n",
    "    - Activate environment: `conda activate myenv`\n",
    "    - Start Jupyter Notebook: `jupyter notebook`\n",
    "\n",
    "\n",
    "\n",
    "### In this tutorial we will learn:\n",
    "\n",
    "- Getting Data: How to import data from PyCaret repository\n",
    "- Setting up Environment: How to setup an experiment in PyCaret and get started with building regression models\n",
    "- Create Model: How to create a model, perform cross validation and evaluate regression metrics\n",
    "- Tune Model: How to automatically tune the hyperparameters of a regression model\n",
    "- Plot Model: How to analyze model performance using various plots\n",
    "- Finalize Model: How to finalize the best model at the end of the experiment\n",
    "- Predict Model: How to make prediction on new / unseen data\n",
    "- Save / Load Model: How to save / load a model for future use\n"
   ]
  },
  {
   "cell_type": "markdown",
   "metadata": {},
   "source": [
    "# <span style='color:Red'> 1. Clustering - Part 1 (Kmean Clustering)</span>"
   ]
  },
  {
   "cell_type": "markdown",
   "metadata": {},
   "source": [
    "### <span style='color:DarkBlue'>1.1 KMean Clustering </span>"
   ]
  },
  {
   "cell_type": "markdown",
   "metadata": {},
   "source": [
    "#### Get the version of the pycaret"
   ]
  },
  {
   "cell_type": "code",
   "execution_count": null,
   "metadata": {},
   "outputs": [],
   "source": [
    "from pycaret.utils import version\n",
    "version()"
   ]
  },
  {
   "cell_type": "markdown",
   "metadata": {},
   "source": [
    "#### Loading dataset from pycaret"
   ]
  },
  {
   "cell_type": "code",
   "execution_count": null,
   "metadata": {},
   "outputs": [],
   "source": [
    "from pycaret.datasets import get_data"
   ]
  },
  {
   "cell_type": "markdown",
   "metadata": {},
   "source": [
    "#### Get the list of datasets available in pycaret"
   ]
  },
  {
   "cell_type": "code",
   "execution_count": null,
   "metadata": {},
   "outputs": [],
   "source": [
    "# Internet connection is required\n",
    "dataSets = get_data('index')\n",
    "dataSets"
   ]
  },
  {
   "cell_type": "markdown",
   "metadata": {},
   "source": [
    "#### Get Jewellery dataset"
   ]
  },
  {
   "cell_type": "code",
   "execution_count": null,
   "metadata": {},
   "outputs": [],
   "source": [
    "jewellery_df = get_data('jewellery')"
   ]
  },
  {
   "cell_type": "markdown",
   "metadata": {},
   "source": [
    "#### Get the dimention of dataset"
   ]
  },
  {
   "cell_type": "code",
   "execution_count": null,
   "metadata": {},
   "outputs": [],
   "source": [
    "print(jewellery_df.shape)"
   ]
  },
  {
   "cell_type": "markdown",
   "metadata": {},
   "source": [
    "#### Remove duplicates"
   ]
  },
  {
   "cell_type": "code",
   "execution_count": null,
   "metadata": {},
   "outputs": [],
   "source": [
    "print(jewellery_df.shape)\n",
    "jewellery_df.drop_duplicates()\n",
    "print(jewellery_df.shape)"
   ]
  },
  {
   "cell_type": "markdown",
   "metadata": {},
   "source": [
    "### <span style='color:DarkBlue'>1.2 Parameter setting for all clustering models</span>\n",
    "- Train/Test division\n",
    "- Sampling\n",
    "- Normalization\n",
    "- Transformation\n",
    "- PCA (Dimention Reduction)\n",
    "- Handaling of Outliers\n",
    "- Feature Selection"
   ]
  },
  {
   "cell_type": "markdown",
   "metadata": {},
   "source": [
    "#### Setup parameters for clustering models (defaults)"
   ]
  },
  {
   "cell_type": "code",
   "execution_count": null,
   "metadata": {},
   "outputs": [],
   "source": [
    "from pycaret.clustering import *\n",
    "kMeanClusteringParameters = setup(jewellery_df)"
   ]
  },
  {
   "cell_type": "markdown",
   "metadata": {},
   "source": [
    "### <span style='color:DarkBlue'>1.3 Build KMean clustering model</span>"
   ]
  },
  {
   "cell_type": "code",
   "execution_count": null,
   "metadata": {},
   "outputs": [],
   "source": [
    "KMeanClusteringModel = create_model('kmeans', num_clusters=4)\n",
    "KMeanClusteringModel"
   ]
  },
  {
   "cell_type": "markdown",
   "metadata": {},
   "source": [
    "#### <span style='color:DarkBlue'>Other clustering model</span>"
   ]
  },
  {
   "cell_type": "code",
   "execution_count": null,
   "metadata": {},
   "outputs": [],
   "source": [
    "K-Means clustering                 'kmeans'\n",
    "Affinity Propagation               'ap'\n",
    "Mean shift clustering              'meanshift'\n",
    "Spectral Clustering                'sc'\n",
    "Agglomerative Clustering           'hclust'\n",
    "Density-Based Spatial Clustering   'dbscan'\n",
    "OPTICS Clustering                  'optics'\n",
    "Birch Clustering                   'birch'\n",
    "K-Modes clustering                 'kmodes'"
   ]
  },
  {
   "cell_type": "markdown",
   "metadata": {},
   "source": [
    "### <span style='color:DarkBlue'>1.4 Assign Model - Assign the labels to the dataset</span>\n",
    "\n"
   ]
  },
  {
   "cell_type": "code",
   "execution_count": null,
   "metadata": {},
   "outputs": [],
   "source": [
    "kmeans_df = assign_model(KMeanClusteringModel)\n",
    "kmeans_df"
   ]
  },
  {
   "cell_type": "markdown",
   "metadata": {},
   "source": [
    "### <span style='color:DarkBlue'>1.5 Saving the result</span>"
   ]
  },
  {
   "cell_type": "code",
   "execution_count": null,
   "metadata": {},
   "outputs": [],
   "source": [
    "kmeans_df.to_csv(\"KMeanResult.csv\")"
   ]
  },
  {
   "cell_type": "markdown",
   "metadata": {},
   "source": [
    "### <span style='color:DarkBlue'>1.6 Plot Clustering Model</span>"
   ]
  },
  {
   "cell_type": "code",
   "execution_count": null,
   "metadata": {
    "scrolled": true
   },
   "outputs": [],
   "source": [
    "plot_model(KMeanClusteringModel)"
   ]
  },
  {
   "cell_type": "markdown",
   "metadata": {},
   "source": [
    "### <span style='color:DarkBlue'>1.7 Save the trained model </span>"
   ]
  },
  {
   "cell_type": "code",
   "execution_count": null,
   "metadata": {},
   "outputs": [],
   "source": [
    "save_model(KMeanClusteringModel, 'KMeanClusteringModel')"
   ]
  },
  {
   "cell_type": "markdown",
   "metadata": {},
   "source": [
    "### <span style='color:DarkBlue'>1.8 Load the model </span>"
   ]
  },
  {
   "cell_type": "code",
   "execution_count": null,
   "metadata": {},
   "outputs": [],
   "source": [
    "KMeanModel = load_model('KMeanClusteringModel')"
   ]
  },
  {
   "cell_type": "markdown",
   "metadata": {},
   "source": [
    "### <span style='color:DarkBlue'>1.9 Make prediction on new dataset</span>"
   ]
  },
  {
   "cell_type": "markdown",
   "metadata": {},
   "source": [
    "#### Read New Data"
   ]
  },
  {
   "cell_type": "code",
   "execution_count": null,
   "metadata": {},
   "outputs": [],
   "source": [
    "data = get_data(\"jewellery\")"
   ]
  },
  {
   "cell_type": "markdown",
   "metadata": {},
   "source": [
    "#### Select some data"
   ]
  },
  {
   "cell_type": "code",
   "execution_count": null,
   "metadata": {},
   "outputs": [],
   "source": [
    "# Select top 10 rows\n",
    "new_data = data.iloc[:10]\n",
    "new_data"
   ]
  },
  {
   "cell_type": "markdown",
   "metadata": {},
   "source": [
    "#### Make prediction on new dataset"
   ]
  },
  {
   "cell_type": "code",
   "execution_count": null,
   "metadata": {},
   "outputs": [],
   "source": [
    "newPredictions = predict_model(KMeanModel, data = new_data)\n",
    "newPredictions"
   ]
  },
  {
   "cell_type": "markdown",
   "metadata": {},
   "source": [
    "### <span style='color:DarkBlue'>1.10 Save prediction results to csv</span>"
   ]
  },
  {
   "cell_type": "code",
   "execution_count": null,
   "metadata": {},
   "outputs": [],
   "source": [
    "newPredictions.to_csv(\"NewPredictions.csv\")"
   ]
  },
  {
   "cell_type": "markdown",
   "metadata": {},
   "source": [
    "### <span style='color:DarkBlue'>1.11 Ploting the model</span>"
   ]
  },
  {
   "cell_type": "code",
   "execution_count": null,
   "metadata": {},
   "outputs": [],
   "source": [
    "Cluster PCA Plot (2d)          'cluster'              \n",
    "Cluster TSnE (3d)              'tsne'\n",
    "Elbow Plot                     'elbow'\n",
    "Silhouette Plot                'silhouette'\n",
    "Distance Plot                  'distance'\n",
    "Distribution Plot              'distribution'"
   ]
  },
  {
   "cell_type": "markdown",
   "metadata": {},
   "source": [
    "#### Evaluate Cluster"
   ]
  },
  {
   "cell_type": "code",
   "execution_count": null,
   "metadata": {},
   "outputs": [],
   "source": [
    "evaluate_model(KMeanClusteringModel)"
   ]
  },
  {
   "cell_type": "markdown",
   "metadata": {},
   "source": [
    "#### Cluster PCA Plot"
   ]
  },
  {
   "cell_type": "code",
   "execution_count": null,
   "metadata": {},
   "outputs": [],
   "source": [
    "plot_model(KMeanClusteringModel , plot='cluster')"
   ]
  },
  {
   "cell_type": "markdown",
   "metadata": {},
   "source": [
    "#### Cluster Plot (3d)"
   ]
  },
  {
   "cell_type": "code",
   "execution_count": null,
   "metadata": {},
   "outputs": [],
   "source": [
    "plot_model(KMeanClusteringModel,plot = 'tsne')"
   ]
  },
  {
   "cell_type": "markdown",
   "metadata": {},
   "source": [
    "#### Elbow Plot"
   ]
  },
  {
   "cell_type": "code",
   "execution_count": null,
   "metadata": {},
   "outputs": [],
   "source": [
    "plot_model(KMeanClusteringModel, plot = 'elbow')"
   ]
  },
  {
   "cell_type": "markdown",
   "metadata": {},
   "source": [
    "#### Silhouette Plot"
   ]
  },
  {
   "cell_type": "code",
   "execution_count": null,
   "metadata": {},
   "outputs": [],
   "source": [
    "plot_model(KMeanClusteringModel, plot = 'silhouette')\n",
    "# Error!! Plot Type not supported for this model"
   ]
  },
  {
   "cell_type": "markdown",
   "metadata": {},
   "source": [
    "#### Distribution Plot"
   ]
  },
  {
   "cell_type": "code",
   "execution_count": null,
   "metadata": {},
   "outputs": [],
   "source": [
    "plot_model(KMeanClusteringModel,plot = 'distribution')"
   ]
  },
  {
   "cell_type": "markdown",
   "metadata": {},
   "source": [
    "#### Distribution Plot"
   ]
  },
  {
   "cell_type": "code",
   "execution_count": null,
   "metadata": {},
   "outputs": [],
   "source": [
    "plot_model(KMeanClusteringModel,plot = 'distribution', feature='Income')"
   ]
  },
  {
   "cell_type": "markdown",
   "metadata": {},
   "source": [
    "#### Distance Plot"
   ]
  },
  {
   "cell_type": "code",
   "execution_count": null,
   "metadata": {},
   "outputs": [],
   "source": [
    "plot_model(KMeanClusteringModel,plot = 'distance')\n",
    "# Error!! Plot Type not supported for this model"
   ]
  },
  {
   "cell_type": "markdown",
   "metadata": {},
   "source": [
    "# <span style='color:Red'> 2. Clustering - Part 2 (Apply Data-Preprocessing)</span>"
   ]
  },
  {
   "cell_type": "markdown",
   "metadata": {},
   "source": [
    "##### <span style='color:DarkBlue'>Read Dataset </span>"
   ]
  },
  {
   "cell_type": "code",
   "execution_count": null,
   "metadata": {},
   "outputs": [],
   "source": [
    "from pycaret.clustering import *\n",
    "from pycaret.datasets import get_data\n",
    "\n",
    "jewellery_df = get_data('jewellery')"
   ]
  },
  {
   "cell_type": "markdown",
   "metadata": {},
   "source": [
    "### <span style='color:DarkBlue'>2.1 Model Performance using Data Normalization</span>"
   ]
  },
  {
   "cell_type": "code",
   "execution_count": null,
   "metadata": {},
   "outputs": [],
   "source": [
    "setup(data = jewellery_df, normalize = True, normalize_method = 'zscore')\n",
    "create_model('kmeans', num_clusters = 4)"
   ]
  },
  {
   "cell_type": "markdown",
   "metadata": {},
   "source": [
    "### <span style='color:DarkBlue'>2.2 Model Performance using Transformation</span>"
   ]
  },
  {
   "cell_type": "code",
   "execution_count": null,
   "metadata": {},
   "outputs": [],
   "source": [
    "setup(data = jewellery_df, transformation = True, transformation_method = 'yeo-johnson')\n",
    "create_model('kmeans', num_clusters = 4)"
   ]
  },
  {
   "cell_type": "markdown",
   "metadata": {},
   "source": [
    "### <span style='color:DarkBlue'>2.3 Model Performance using Transformation + Normalization</span>"
   ]
  },
  {
   "cell_type": "code",
   "execution_count": null,
   "metadata": {},
   "outputs": [],
   "source": [
    "setup(data = jewellery_df, transformation = True, normalize = True, normalize_method = 'zscore', \n",
    "      transformation_method = 'yeo-johnson')\n",
    "create_model('kmeans', num_clusters = 4)"
   ]
  },
  {
   "cell_type": "markdown",
   "metadata": {},
   "source": [
    "### <span style='color:DarkBlue'>2.4 Model Performance using PCA</span>"
   ]
  },
  {
   "cell_type": "code",
   "execution_count": null,
   "metadata": {},
   "outputs": [],
   "source": [
    "setup(data = jewellery_df, pca = True, pca_method = 'linear')\n",
    "create_model('kmeans', num_clusters = 4)"
   ]
  },
  {
   "cell_type": "markdown",
   "metadata": {},
   "source": [
    "### <span style='color:DarkBlue'>2.4 Model Performance using Remove Multicollinearity</span>"
   ]
  },
  {
   "cell_type": "code",
   "execution_count": null,
   "metadata": {},
   "outputs": [],
   "source": [
    "setup(data = jewellery_df, remove_multicollinearity = True, multicollinearity_threshold = 0.8)\n",
    "create_model('kmeans', num_clusters = 4)"
   ]
  },
  {
   "cell_type": "markdown",
   "metadata": {},
   "source": [
    "# <span style='color:Red'> 3. Clustering - Part 3 (Other Clustering Techniques)</span>"
   ]
  },
  {
   "cell_type": "markdown",
   "metadata": {},
   "source": [
    "#### <span style='color:DarkBlue'>Other clustering model</span>"
   ]
  },
  {
   "cell_type": "code",
   "execution_count": null,
   "metadata": {},
   "outputs": [],
   "source": [
    "K-Means clustering                 'kmeans'\n",
    "Affinity Propagation               'ap'\n",
    "Mean shift clustering              'meanshift'\n",
    "Spectral Clustering                'sc'\n",
    "Agglomerative Clustering           'hclust'\n",
    "Density-Based Spatial Clustering   'dbscan'\n",
    "OPTICS Clustering                  'optics'\n",
    "Birch Clustering                   'birch'\n",
    "K-Modes clustering                 'kmodes'"
   ]
  },
  {
   "cell_type": "markdown",
   "metadata": {},
   "source": [
    "### <span style='color:DarkBlue'>3.1 Agglomerative (Hierarchical) Clustering </span>"
   ]
  },
  {
   "cell_type": "markdown",
   "metadata": {},
   "source": [
    "#### Step 1: Loading dataset from pycaret"
   ]
  },
  {
   "cell_type": "code",
   "execution_count": null,
   "metadata": {},
   "outputs": [],
   "source": [
    "from pycaret.datasets import get_data"
   ]
  },
  {
   "cell_type": "markdown",
   "metadata": {},
   "source": [
    "#### Step 2: Get Jewellery dataset"
   ]
  },
  {
   "cell_type": "code",
   "execution_count": null,
   "metadata": {},
   "outputs": [],
   "source": [
    "jewellery_df = get_data('jewellery')"
   ]
  },
  {
   "cell_type": "markdown",
   "metadata": {},
   "source": [
    "#### Step 3: Get the dimention of dataset"
   ]
  },
  {
   "cell_type": "code",
   "execution_count": null,
   "metadata": {},
   "outputs": [],
   "source": [
    "jewellery_df.shape"
   ]
  },
  {
   "cell_type": "markdown",
   "metadata": {},
   "source": [
    "#### Step 4: Setup"
   ]
  },
  {
   "cell_type": "code",
   "execution_count": null,
   "metadata": {},
   "outputs": [],
   "source": [
    "from pycaret.clustering import *\n",
    "hierarchicalParameters = setup(jewellery_df)"
   ]
  },
  {
   "cell_type": "markdown",
   "metadata": {},
   "source": [
    "#### Step 5: Create Hierarchical Clustering Model"
   ]
  },
  {
   "cell_type": "code",
   "execution_count": null,
   "metadata": {},
   "outputs": [],
   "source": [
    "hierarchicalModel = create_model('hclust', num_clusters=6)\n",
    "hierarchicalModel"
   ]
  },
  {
   "cell_type": "markdown",
   "metadata": {},
   "source": [
    "#### Step 6: Assign Model - Assign the labels to the dataframe"
   ]
  },
  {
   "cell_type": "code",
   "execution_count": null,
   "metadata": {},
   "outputs": [],
   "source": [
    "hierarchical_df = assign_model(hierarchicalModel)\n",
    "hierarchical_df"
   ]
  },
  {
   "cell_type": "markdown",
   "metadata": {},
   "source": [
    "#### Step 7: Saving to file"
   ]
  },
  {
   "cell_type": "code",
   "execution_count": null,
   "metadata": {},
   "outputs": [],
   "source": [
    "hierarchical_df.to_csv(\"HierarchicalResult.csv\")"
   ]
  },
  {
   "cell_type": "markdown",
   "metadata": {},
   "source": [
    "#### Step 8: Evaluate Model"
   ]
  },
  {
   "cell_type": "code",
   "execution_count": null,
   "metadata": {
    "scrolled": true
   },
   "outputs": [],
   "source": [
    "evaluate_model(KMeanClusteringModel)"
   ]
  },
  {
   "cell_type": "markdown",
   "metadata": {},
   "source": [
    "### <span style='color:DarkBlue'>3.2 Density-Based Spatial Clustering </span>"
   ]
  },
  {
   "cell_type": "markdown",
   "metadata": {},
   "source": [
    "#### Step 1: Loading dataset from pycaret"
   ]
  },
  {
   "cell_type": "code",
   "execution_count": null,
   "metadata": {},
   "outputs": [],
   "source": [
    "from pycaret.datasets import get_data"
   ]
  },
  {
   "cell_type": "markdown",
   "metadata": {},
   "source": [
    "#### Step 2: Get Jewellery dataset"
   ]
  },
  {
   "cell_type": "code",
   "execution_count": null,
   "metadata": {},
   "outputs": [],
   "source": [
    "jewellery_df = get_data('jewellery')"
   ]
  },
  {
   "cell_type": "markdown",
   "metadata": {},
   "source": [
    "#### Step 3: Get the dimention of dataset"
   ]
  },
  {
   "cell_type": "code",
   "execution_count": null,
   "metadata": {},
   "outputs": [],
   "source": [
    "jewellery_df.shape"
   ]
  },
  {
   "cell_type": "markdown",
   "metadata": {},
   "source": [
    "#### Step 4: Setup"
   ]
  },
  {
   "cell_type": "code",
   "execution_count": null,
   "metadata": {},
   "outputs": [],
   "source": [
    "from pycaret.clustering import *\n",
    "dbscanParameters = setup(jewellery_df)"
   ]
  },
  {
   "cell_type": "markdown",
   "metadata": {},
   "source": [
    "#### Step 5: Create Clustering Model"
   ]
  },
  {
   "cell_type": "code",
   "execution_count": null,
   "metadata": {},
   "outputs": [],
   "source": [
    "dbscanModel = create_model('dbscan')\n",
    "dbscanModel"
   ]
  },
  {
   "cell_type": "markdown",
   "metadata": {},
   "source": [
    "#### Step 6: Assign Model - Assign the labels to the dataframe"
   ]
  },
  {
   "cell_type": "code",
   "execution_count": null,
   "metadata": {},
   "outputs": [],
   "source": [
    "dbscan_df = assign_model(dbscanModel)\n",
    "dbscan_df\n",
    "\n",
    "# Noisy samples are given the label -1 i.e. 'Cluster -1'"
   ]
  },
  {
   "cell_type": "markdown",
   "metadata": {},
   "source": [
    "#### Step 7: Saving to file"
   ]
  },
  {
   "cell_type": "code",
   "execution_count": null,
   "metadata": {},
   "outputs": [],
   "source": [
    "dbscan_df.to_csv(\"DBScanResult.csv\")"
   ]
  },
  {
   "cell_type": "markdown",
   "metadata": {},
   "source": [
    "#### Step 8: Evaluate Model"
   ]
  },
  {
   "cell_type": "code",
   "execution_count": null,
   "metadata": {
    "scrolled": true
   },
   "outputs": [],
   "source": [
    "evaluate_model(KMeanClusteringModel)"
   ]
  },
  {
   "cell_type": "markdown",
   "metadata": {},
   "source": [
    "### <span style='color:Red'>Key Points</span>"
   ]
  },
  {
   "cell_type": "markdown",
   "metadata": {},
   "source": [
    "- num_clusters not required for some of the clustering Alorithms (Affinity Propagation ('ap'), Mean shift\n",
    "  clustering ('meanshift'), Density-Based Spatial Clustering ('dbscan') and OPTICS Clustering ('optics')). \n",
    "- num_clusters param for these models are automatically determined.\n",
    "  \n",
    "- When fit doesn't converge in Affinity Propagation ('ap') model, all datapoints are labelled as -1.\n",
    "  \n",
    "- Noisy samples are given the label -1, when using Density-Based Spatial  ('dbscan') or OPTICS Clustering ('optics'). \n",
    "  \n",
    "- OPTICS ('optics') clustering may take longer training times on large datasets.\n"
   ]
  },
  {
   "cell_type": "markdown",
   "metadata": {},
   "source": [
    "\n",
    "### Self Learning Resource\n",
    "1. Explore Pycaret mannual on Clustering: <a href=\"https://pycaret.org/clustering/\"> Click Here </a>\n",
    "2. Tutorial on Pycaret <a href=\"https://pycaret.readthedocs.io/en/latest/tutorials.html\"> Click Here</a> "
   ]
  }
 ],
 "metadata": {
  "kernelspec": {
   "display_name": "Python 3",
   "language": "python",
   "name": "python3"
  },
  "language_info": {
   "codemirror_mode": {
    "name": "ipython",
    "version": 3
   },
   "file_extension": ".py",
   "mimetype": "text/x-python",
   "name": "python",
   "nbconvert_exporter": "python",
   "pygments_lexer": "ipython3",
   "version": "3.7.7"
  }
 },
 "nbformat": 4,
 "nbformat_minor": 4
}
